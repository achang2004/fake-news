{
 "cells": [
  {
   "cell_type": "code",
   "execution_count": 1,
   "metadata": {},
   "outputs": [],
   "source": [
    "%reload_ext autoreload\n",
    "%autoreload 2\n",
    "%matplotlib inline"
   ]
  },
  {
   "cell_type": "code",
   "execution_count": 2,
   "metadata": {
    "scrolled": true
   },
   "outputs": [],
   "source": [
    "from fastai import *\n",
    "from fastai.text import *"
   ]
  },
  {
   "cell_type": "code",
   "execution_count": 3,
   "metadata": {
    "collapsed": true,
    "deletable": false,
    "editable": false,
    "run_control": {
     "frozen": true
    }
   },
   "outputs": [
    {
     "name": "stdout",
     "output_type": "stream",
     "text": [
      "\n",
      "\n",
      "```text\n",
      "=== Software === \n",
      "python version  : 3.7.0\n",
      "fastai version  : 1.0.34\n",
      "torch version   : 1.0.0.dev20181120\n",
      "nvidia driver   : 410.72\n",
      "torch cuda ver  : 9.2.148\n",
      "torch cuda is   : available\n",
      "torch cudnn ver : 7401\n",
      "torch cudnn is  : enabled\n",
      "\n",
      "=== Hardware === \n",
      "nvidia gpus     : 1\n",
      "torch available : 1\n",
      "  - gpu0        : 7611MB | Tesla P4\n",
      "\n",
      "=== Environment === \n",
      "platform        : Linux-4.9.0-8-amd64-x86_64-with-debian-9.6\n",
      "distro          : #1 SMP Debian 4.9.130-2 (2018-10-27)\n",
      "conda env       : base\n",
      "python          : /opt/anaconda3/bin/python\n",
      "sys.path        : \n",
      "/home/jupyter/tutorials/fastai/course-v3/nbs/dl1\n",
      "/opt/anaconda3/lib/python37.zip\n",
      "/opt/anaconda3/lib/python3.7\n",
      "/opt/anaconda3/lib/python3.7/lib-dynload\n",
      "/opt/anaconda3/lib/python3.7/site-packages\n",
      "/opt/anaconda3/lib/python3.7/site-packages/IPython/extensions\n",
      "/home/jupyter/.ipython\n",
      "```\n",
      "\n",
      "Please make sure to include opening/closing ``` when you paste into forums/github to make the reports appear formatted as code sections.\n",
      "\n",
      "Optional package(s) to enhance the diagnostics can be installed with:\n",
      "pip install distro\n",
      "Once installed, re-run this utility to get the additional information\n"
     ]
    }
   ],
   "source": [
    "#%%script false\n",
    "\n",
    "# import fastai\n",
    "# fastai.show_install(0)"
   ]
  },
  {
   "cell_type": "code",
   "execution_count": 3,
   "metadata": {},
   "outputs": [
    {
     "data": {
      "text/plain": [
       "[PosixPath('/home/jupyter/tutorials/data/fake_or_real_news/fake_or_real_news.csv')]"
      ]
     },
     "execution_count": 3,
     "metadata": {},
     "output_type": "execute_result"
    }
   ],
   "source": [
    "path=Path(\"/home/jupyter/tutorials/data/fake_or_real_news\")\n",
    "#path.ls()"
   ]
  },
  {
   "cell_type": "markdown",
   "metadata": {},
   "source": [
    "Had to use a Pandas df and rearrange/drop cols to avoid a weird TypeError when reading the full csv file"
   ]
  },
  {
   "cell_type": "code",
   "execution_count": 4,
   "metadata": {},
   "outputs": [],
   "source": [
    "df = pd.read_csv(path/'fake_or_real_news.csv', usecols=[\"label\", \"text\"])[[\"label\", \"text\"]]"
   ]
  },
  {
   "cell_type": "code",
   "execution_count": 22,
   "metadata": {
    "deletable": false,
    "editable": false,
    "run_control": {
     "frozen": true
    }
   },
   "outputs": [
    {
     "data": {
      "text/html": [
       "<div>\n",
       "<style scoped>\n",
       "    .dataframe tbody tr th:only-of-type {\n",
       "        vertical-align: middle;\n",
       "    }\n",
       "\n",
       "    .dataframe tbody tr th {\n",
       "        vertical-align: top;\n",
       "    }\n",
       "\n",
       "    .dataframe thead th {\n",
       "        text-align: right;\n",
       "    }\n",
       "</style>\n",
       "<table border=\"1\" class=\"dataframe\">\n",
       "  <thead>\n",
       "    <tr style=\"text-align: right;\">\n",
       "      <th></th>\n",
       "      <th>label</th>\n",
       "      <th>text</th>\n",
       "    </tr>\n",
       "  </thead>\n",
       "  <tbody>\n",
       "    <tr>\n",
       "      <th>0</th>\n",
       "      <td>FAKE</td>\n",
       "      <td>Daniel Greenfield, a Shillman Journalism Fello...</td>\n",
       "    </tr>\n",
       "    <tr>\n",
       "      <th>1</th>\n",
       "      <td>FAKE</td>\n",
       "      <td>Google Pinterest Digg Linkedin Reddit Stumbleu...</td>\n",
       "    </tr>\n",
       "    <tr>\n",
       "      <th>2</th>\n",
       "      <td>REAL</td>\n",
       "      <td>U.S. Secretary of State John F. Kerry said Mon...</td>\n",
       "    </tr>\n",
       "    <tr>\n",
       "      <th>3</th>\n",
       "      <td>FAKE</td>\n",
       "      <td>— Kaydee King (@KaydeeKing) November 9, 2016 T...</td>\n",
       "    </tr>\n",
       "    <tr>\n",
       "      <th>4</th>\n",
       "      <td>REAL</td>\n",
       "      <td>It's primary day in New York and front-runners...</td>\n",
       "    </tr>\n",
       "  </tbody>\n",
       "</table>\n",
       "</div>"
      ],
      "text/plain": [
       "  label                                               text\n",
       "0  FAKE  Daniel Greenfield, a Shillman Journalism Fello...\n",
       "1  FAKE  Google Pinterest Digg Linkedin Reddit Stumbleu...\n",
       "2  REAL  U.S. Secretary of State John F. Kerry said Mon...\n",
       "3  FAKE  — Kaydee King (@KaydeeKing) November 9, 2016 T...\n",
       "4  REAL  It's primary day in New York and front-runners..."
      ]
     },
     "execution_count": 22,
     "metadata": {},
     "output_type": "execute_result"
    }
   ],
   "source": [
    "df.head()"
   ]
  },
  {
   "cell_type": "code",
   "execution_count": 10,
   "metadata": {
    "collapsed": true,
    "deletable": false,
    "editable": false,
    "run_control": {
     "frozen": true
    }
   },
   "outputs": [
    {
     "data": {
      "text/html": [
       "<table>  <col width='90%'>  <col width='10%'>  <tr>\n",
       "    <th>text</th>\n",
       "    <th>target</th>\n",
       "  </tr>\n",
       "  <tr>\n",
       "    <th>xxbos xxmaj why xxmaj are xxmaj so xxmaj many xxmaj people xxmaj choosing xxmaj to xxmaj leave xxmaj the xxmaj united xxmaj states xxmaj permanently ? xxmaj august 11th , 2013 \\n xxmaj have things gotten so bad that it is time to leave the xxmaj united xxmaj states for good ? xxmaj that is a question that a lot of xxmaj americans are dealing with these days , and</th>\n",
       "    <th>FAKE</th>\n",
       "  </tr>\n",
       "  <tr>\n",
       "    <th>xxbos in xxmaj communal xxmaj harmony — by xxmaj xxunk xxmaj xxunk — xxmaj november 5 , 2016 \\n xxmaj on xxmaj monday the 31st of xxmaj october 2016 the xxmaj xxunk xxmaj pradesh police assassinated eight alleged associates of the xxmaj students’ xxmaj islamic xxmaj movement of xxmaj india ( xxup simi ) after an alleged escape from prison near xxmaj bhopal . xxmaj this was not coincidentally a</th>\n",
       "    <th>FAKE</th>\n",
       "  </tr>\n",
       "  <tr>\n",
       "    <th>xxbos xxmaj the elites in xxmaj washington almost uniformly believe xxmaj hillary xxmaj clinton will be elected president in xxmaj november . xxmaj the conventional wisdom underlying coverage of 2016 is that xxmaj donald xxmaj trump will go down in flames and probably take the xxmaj republican xxmaj senate with him . \\n\\n xxmaj the presumptive xxup gop nominee has a well - documented history of misogyny , xenophobia and</th>\n",
       "    <th>REAL</th>\n",
       "  </tr>\n",
       "  <tr>\n",
       "    <th>xxbos xxup the xxup big xxup idea :   xxmaj shaking up his campaign once again , xxmaj donald xxmaj trump has decided to let xxmaj trump be xxmaj trump . \\n\\n xxmaj the xxmaj republican nominee knows he ’s losing . xxmaj xxunk unable to take personal responsibility , he blames his slide in the polls on the people who have prodded him to act “ presidential ” and</th>\n",
       "    <th>REAL</th>\n",
       "  </tr>\n",
       "  <tr>\n",
       "    <th>xxbos ( xxup cnn ) xxmaj this story was reported by xxmaj dana xxmaj bash , xxmaj gloria xxmaj borger , xxmaj abigail xxmaj xxunk , xxmaj jeremy xxmaj diamond , xxmaj chris xxmaj xxunk , xxmaj noah xxmaj gray , xxmaj ashley xxmaj xxunk , xxmaj xxunk xxmaj klein , xxmaj elizabeth xxmaj landers , xxmaj phil xxmaj xxunk , xxmaj dan xxmaj merica , xxmaj sara xxmaj murray</th>\n",
       "    <th>REAL</th>\n",
       "  </tr>\n",
       "</table>\n"
      ],
      "text/plain": [
       "<IPython.core.display.HTML object>"
      ]
     },
     "metadata": {},
     "output_type": "display_data"
    }
   ],
   "source": [
    "data.show_batch()"
   ]
  },
  {
   "cell_type": "markdown",
   "metadata": {},
   "source": [
    "# Building the language model"
   ]
  },
  {
   "cell_type": "markdown",
   "metadata": {},
   "source": [
    "Had to drop batch size to avoid cuda memory error"
   ]
  },
  {
   "cell_type": "code",
   "execution_count": 5,
   "metadata": {},
   "outputs": [],
   "source": [
    "bs=32"
   ]
  },
  {
   "cell_type": "markdown",
   "metadata": {},
   "source": [
    "Read cols as a list to avoid other strange errors - fix suggested by Francisco Ingham - thanks!"
   ]
  },
  {
   "cell_type": "code",
   "execution_count": 6,
   "metadata": {},
   "outputs": [],
   "source": [
    "data_lm = (TextList.from_df(df, cols=['text','label'])\n",
    "                .random_split_by_pct(0.2)\n",
    "                .label_for_lm()\n",
    "                .databunch(bs=bs))"
   ]
  },
  {
   "cell_type": "code",
   "execution_count": 7,
   "metadata": {},
   "outputs": [],
   "source": [
    "data_lm.save('tmp_lm')"
   ]
  },
  {
   "cell_type": "code",
   "execution_count": 9,
   "metadata": {
    "collapsed": true,
    "deletable": false,
    "editable": false,
    "run_control": {
     "frozen": true
    }
   },
   "outputs": [
    {
     "data": {
      "text/html": [
       "<table>  <col width='5%'>  <col width='95%'>  <tr>\n",
       "    <th>idx</th>\n",
       "    <th>text</th>\n",
       "  </tr>\n",
       "  <tr>\n",
       "    <th>0</th>\n",
       "    <th>xxbos xxmaj xxunk , xxmaj maryland ( xxup cnn ) xxmaj president xxmaj barack xxmaj obama , facing xxmaj persian xxmaj gulf countries deeply skeptical about his proposed nuclear deal with xxmaj iran , said xxmaj thursday that the xxup u.s. would use military force if necessary to defend its xxmaj arab allies . \\n\\n xxmaj obama had spent the day huddled with leaders from the region at his xxmaj</th>\n",
       "  </tr>\n",
       "  <tr>\n",
       "    <th>1</th>\n",
       "    <th>- threatening medical problem . \\n xxmaj get in xxmaj shape \\n xxmaj this one goes hand - in - hand with eating healthy . xxmaj people who are in good physical condition are much less likely to have medical problems , especially high blood pressure , diabetes and high cholesterol ; all of which can become life - threatening . \\n xxmaj however , there ’s another part to</th>\n",
       "  </tr>\n",
       "  <tr>\n",
       "    <th>2</th>\n",
       "    <th>. \\n\\n xxmaj instead , they are the words of xxmaj xxunk , a 19th century master magician in the fictional film , “ xxmaj the xxmaj xxunk . ” xxmaj and , just like xxmaj obama , he uses his abilities to fool the masses into believing that his xxunk are quite real . \\n\\n xxmaj the president sold his health care plan on the promise that it would</th>\n",
       "  </tr>\n",
       "  <tr>\n",
       "    <th>3</th>\n",
       "    <th>it would take for lawsuits for   damages to make their way through the judicial system . xxmaj that makes their representation about xxup u.s. assets look a bit less like a threat than an expression of defensive strategy . \\n\\n xxmaj regardless of the xxmaj saudi threat , the xxmaj obama administration ’s resistance to this bill makes a bit more sense . \\n\\n xxmaj what ’s interesting about</th>\n",
       "  </tr>\n",
       "  <tr>\n",
       "    <th>4</th>\n",
       "    <th>own borders . \\n xxmaj americans raised on a pervasive ideology of “ exceptionalism ” all too easily assume that our far - flung military presence is simply the natural order of things , and that any challenge to it must be countered . a little reflection , however , should suggest why countries — like xxmaj russia , xxmaj china and xxmaj iran — grow hostile and even paranoid</th>\n",
       "  </tr>\n",
       "</table>\n"
      ],
      "text/plain": [
       "<IPython.core.display.HTML object>"
      ]
     },
     "metadata": {},
     "output_type": "display_data"
    }
   ],
   "source": [
    "data_lm.show_batch(5)"
   ]
  },
  {
   "cell_type": "markdown",
   "metadata": {},
   "source": [
    "The text is generally fairly long, several thousand chars"
   ]
  },
  {
   "cell_type": "code",
   "execution_count": 17,
   "metadata": {
    "collapsed": true,
    "deletable": false,
    "editable": false,
    "run_control": {
     "frozen": true
    }
   },
   "outputs": [
    {
     "data": {
      "text/plain": [
       "'Google Pinterest Digg Linkedin Reddit Stumbleupon Print Delicious Pocket Tumblr \\nThere are two fundamental truths in this world: Paul Ryan desperately wants to be president. And Paul Ryan will never be president. Today proved it. \\nIn a particularly staggering example of political cowardice, Paul Ryan re-re-re-reversed course and announced that he was back on the Trump Train after all. This was an aboutface from where he was a few weeks ago. He had previously declared he would not be supporting or defending Trump after a tape was made public in which Trump bragged about assaulting women. Suddenly, Ryan was appearing at a pro-Trump rally and boldly declaring that he already sent in his vote to make him President of the United States. It was a surreal moment. The figurehead of the Republican Party dosed himself in gasoline, got up on a stage on a chilly afternoon in Wisconsin, and lit a match. . @SpeakerRyan says he voted for @realDonaldTrump : “Republicans, it is time to come home” https://t.co/VyTT49YvoE pic.twitter.com/wCvSCg4a5I \\n— ABC News Politics (@ABCPolitics) November 5, 2016 \\nThe Democratic Party couldn’t have asked for a better moment of film. Ryan’s chances of ever becoming president went down to zero in an instant. In the wreckage Trump is to leave behind in his wake, those who cravenly backed his campaign will not recover. If Ryan’s career manages to limp all the way to 2020, then the DNC will have this tape locked and loaded to be used in every ad until Election Day. \\nThe ringing endorsement of the man he clearly hates on a personal level speaks volumes about his own spinelessness. Ryan has postured himself as a “principled” conservative, and one uncomfortable with Trump’s unapologetic bigotry and sexism. However, when push came to shove, Paul Ryan – like many of his colleagues – turned into a sniveling appeaser. After all his lofty tak about conviction, his principles were a house of cards and collapsed with the slightest breeze. \\nWhat’s especially bizarre is how close Ryan came to making it through unscathed. For months the Speaker of the House refused to comment on Trump at all. His strategy seemed to be to keep his head down, pretend Trump didn’t exist, and hope that nobody remembered what happened in 2016. Now, just days away from the election, he screwed it all up. \\nIf 2016’s very ugly election has done any good it’s by exposing the utter cowardice of the Republicans who once feigned moral courage. A reality television star spit on them, hijacked their party, insulted their wives, and got every last one of them to kneel before him. What a turn of events. \\nFeatured image via Twitter'"
      ]
     },
     "execution_count": 17,
     "metadata": {},
     "output_type": "execute_result"
    }
   ],
   "source": [
    "df['text'][1]"
   ]
  },
  {
   "cell_type": "code",
   "execution_count": 25,
   "metadata": {
    "collapsed": true,
    "deletable": false,
    "editable": false,
    "run_control": {
     "frozen": true
    }
   },
   "outputs": [
    {
     "data": {
      "text/plain": [
       "1000    2660\n",
       "1001    2903\n",
       "1002    4015\n",
       "1003    6389\n",
       "1004    3062\n",
       "Name: text, dtype: int64"
      ]
     },
     "execution_count": 25,
     "metadata": {},
     "output_type": "execute_result"
    }
   ],
   "source": [
    "df.iloc[1000:1005]['text'].str.len()"
   ]
  },
  {
   "cell_type": "code",
   "execution_count": 10,
   "metadata": {
    "collapsed": true,
    "deletable": false,
    "editable": false,
    "run_control": {
     "frozen": true
    }
   },
   "outputs": [
    {
     "data": {
      "text/plain": [
       "['xxunk',\n",
       " 'xxpad',\n",
       " 'xxbos',\n",
       " 'xxfld',\n",
       " 'xxmaj',\n",
       " 'xxup',\n",
       " 'xxrep',\n",
       " 'xxwrep',\n",
       " 'the',\n",
       " ',',\n",
       " '.',\n",
       " 'to',\n",
       " 'of',\n",
       " 'and',\n",
       " 'a',\n",
       " 'in',\n",
       " 'that',\n",
       " '\\n\\n',\n",
       " 'is',\n",
       " 'for']"
      ]
     },
     "execution_count": 10,
     "metadata": {},
     "output_type": "execute_result"
    }
   ],
   "source": [
    "data_lm.vocab.itos[:20]"
   ]
  },
  {
   "cell_type": "code",
   "execution_count": 19,
   "metadata": {
    "deletable": false,
    "editable": false,
    "run_control": {
     "frozen": true
    }
   },
   "outputs": [
    {
     "data": {
      "text/plain": [
       "(5068, 2)"
      ]
     },
     "execution_count": 19,
     "metadata": {},
     "output_type": "execute_result"
    }
   ],
   "source": [
    "np.shape(data.train_ds)"
   ]
  },
  {
   "cell_type": "code",
   "execution_count": 20,
   "metadata": {
    "collapsed": true,
    "deletable": false,
    "editable": false,
    "run_control": {
     "frozen": true
    }
   },
   "outputs": [
    {
     "data": {
      "text/plain": [
       "Text xxbos xxmaj daniel xxmaj greenfield , a xxmaj shillman xxmaj journalism xxmaj fellow at the xxmaj freedom xxmaj center , is a xxmaj new xxmaj york writer focusing on radical xxmaj islam . \n",
       " xxmaj in the final stretch of the election , xxmaj hillary xxmaj rodham xxmaj clinton has gone to war with the xxup fbi . \n",
       " xxmaj the word “ unprecedented ” has been thrown around so often this election that it ought to be retired . xxmaj but it ’s still unprecedented for the nominee of a major political party to go war with the xxup fbi . \n",
       " xxmaj but that ’s exactly what xxmaj hillary and her people have done . xxmaj coma patients just waking up now and watching an hour of xxup cnn from their hospital beds would assume that xxup fbi xxmaj director xxmaj james xxmaj comey is xxmaj hillary ’s opponent in this election . \n",
       " xxmaj the xxup fbi is under attack by everyone from xxmaj obama to xxup cnn . xxmaj hillary ’s people have circulated a letter attacking xxmaj comey . xxmaj there are currently more media hit pieces lambasting him than targeting xxmaj trump . xxmaj it would n’t be too surprising if the xxmaj clintons or their allies were to start running attack ads against the xxup fbi . \n",
       " xxmaj the xxup fbi ’s leadership is being warned that the entire left - wing establishment will form a lynch mob if they continue going after xxmaj hillary . xxmaj and the xxup fbi ’s credibility is being attacked by the media and the xxmaj democrats to preemptively head off the results of the investigation of the xxmaj clinton xxmaj foundation and xxmaj hillary xxmaj clinton . \n",
       " xxmaj the covert struggle between xxup fbi agents and xxmaj obama ’s xxup doj people has gone xxunk public . \n",
       " xxmaj the xxmaj new xxmaj york xxmaj times has compared xxmaj comey to xxup j. xxmaj edgar xxmaj hoover . xxmaj its bizarre headline , “ xxmaj james xxmaj comey xxmaj role xxmaj recalls xxmaj hoover ’s xxup fbi , xxmaj fairly or xxmaj not ” practically admits up front that it ’s spouting nonsense . xxmaj the xxmaj boston xxmaj globe has published a column calling for xxmaj comey ’s resignation . xxmaj not to be xxunk , xxmaj time has an editorial claiming that the scandal is really an attack on all women . \n",
       " xxmaj james xxmaj carville appeared on xxup msnbc to remind everyone that he was still alive and insane . xxmaj he accused xxmaj comey of coordinating with xxmaj house xxmaj republicans and the xxup kgb . xxmaj and you thought the “ vast right wing conspiracy ” was a stretch . \n",
       " xxmaj countless media stories charge xxmaj comey with violating procedure . xxmaj do you know what ’s a procedural violation ? xxmaj emailing classified information stored on your bathroom server . \n",
       " xxmaj senator xxmaj harry xxmaj reid has sent xxmaj comey a letter accusing him of violating the xxmaj hatch xxmaj act . xxmaj the xxmaj hatch xxmaj act is a nice idea that has as much relevance in the age of xxmaj obama as the xxmaj tenth xxmaj amendment . xxmaj but the cable news spectrum quickly filled with media hacks glancing at the xxmaj wikipedia article on the xxmaj hatch xxmaj act under the table while accusing the xxup fbi director of one of the most awkward conspiracies against xxmaj hillary ever . \n",
       " xxmaj if xxmaj james xxmaj comey is really out to hurt xxmaj hillary , he picked one hell of a strange way to do it . \n",
       " xxmaj not too long ago xxmaj democrats were breathing a sigh of relief when he gave xxmaj hillary xxmaj clinton a pass in a prominent public statement . xxmaj if he really were out to elect xxmaj trump by keeping the email scandal going , why did he trash the investigation ? xxmaj was he on the payroll of xxmaj house xxmaj republicans and the xxup kgb back then and playing it coy or was it a sudden development where xxmaj vladimir xxmaj putin and xxmaj paul xxmaj ryan talked him into taking a look at xxmaj anthony xxmaj weiner ’s computer ? \n",
       " xxmaj either xxmaj comey is the most cunning xxup fbi director that ever lived or he ’s just awkwardly trying to navigate a political mess that has trapped him between a xxup doj leadership whose political futures are tied to xxmaj hillary ’s victory and his own bureau whose apolitical agents just want to be allowed to do their jobs . \n",
       " xxmaj the only truly mysterious thing is why xxmaj hillary and her associates decided to go to war with a respected xxmaj federal agency . xxmaj most xxmaj americans like the xxup fbi while xxmaj hillary xxmaj clinton enjoys a 60 % unfavorable rating . \n",
       " xxmaj and it ’s an interesting question . \n",
       " xxmaj hillary ’s old strategy was to lie and deny that the xxup fbi even had a criminal investigation underway . xxmaj instead her associates insisted that it was a security review . xxmaj the xxup fbi corrected her and she shrugged it off . xxmaj but the old breezy denial approach has given way to a savage assault on the xxup fbi . \n",
       " xxmaj pretending that nothing was wrong was a bad strategy , but it was a better one that picking a fight with the xxup fbi while lunatic xxmaj clinton associates try to claim that the xxup fbi is really the xxup kgb . \n",
       " xxmaj there are two possible explanations . \n",
       " xxmaj hillary xxmaj clinton might be arrogant enough to lash out at the xxup fbi now that she believes that victory is near . xxmaj the same kind of hubris that led her to plan her victory fireworks display could lead her to declare a war on the xxup fbi for irritating her during the final miles of her campaign . \n",
       " xxmaj but the other explanation is that her people panicked . \n",
       " xxmaj going to war with the xxup fbi is not the behavior of a smart and focused presidential campaign . xxmaj it ’s an act of desperation . xxmaj when a presidential candidate decides that her only option is to try and destroy the credibility of the xxup fbi , that ’s not hubris , it ’s fear of what the xxup fbi might be about to reveal about her . \n",
       " xxmaj during the original xxup fbi investigation , xxmaj hillary xxmaj clinton was confident that she could ride it out . xxmaj and she had good reason for believing that . xxmaj but that xxmaj hillary xxmaj clinton is gone . xxmaj in her place is a paranoid wreck . xxmaj within a short space of time the “ positive ” xxmaj clinton campaign promising to unite the country has been replaced by a desperate and flailing operation that has focused all its energy on fighting the xxup fbi . \n",
       " xxmaj there ’s only one reason for such bizarre behavior . \n",
       " xxmaj the xxmaj clinton campaign has decided that an xxup fbi investigation of the latest batch of emails poses a threat to its survival . xxmaj and so it ’s gone all in on fighting the xxup fbi . xxmaj it ’s an unprecedented step born of fear . xxmaj it ’s hard to know whether that fear is justified . xxmaj but the existence of that fear already tells us a whole lot . \n",
       " xxmaj clinton loyalists rigged the old investigation . xxmaj they knew the outcome ahead of time as well as they knew the debate questions . xxmaj now suddenly they are no longer in control . xxmaj and they are afraid . \n",
       " xxmaj you can smell the fear . \n",
       " xxmaj the xxup fbi has wiretaps from the investigation of the xxmaj clinton xxmaj foundation . xxmaj it ’s finding new emails all the time . xxmaj and xxmaj clintonworld panicked . xxmaj the xxunk of xxmaj clintonworld have claimed that the email scandal is just so much smoke without fire . xxmaj all that ’s here is the appearance of impropriety without any of the substance . xxmaj but this is n’t how you react to smoke . xxmaj it ’s how you respond to a fire . \n",
       " xxmaj the misguided assault on the xxup fbi tells us that xxmaj hillary xxmaj clinton and her allies are afraid of a revelation bigger than the fundamental illegality of her email setup . xxmaj the email setup was a preemptive cover up . xxmaj the xxmaj clinton campaign has panicked badly out of the belief , right or wrong , that whatever crime the illegal setup was meant to cover up is at risk of being exposed . \n",
       " xxmaj the xxmaj clintons have weathered countless scandals over the years . xxmaj whatever they are protecting this time around is bigger than the usual corruption , bribery , sexual assaults and abuses of power that have followed them around throughout the years . xxmaj this is bigger and more damaging than any of the allegations that have already come out . xxmaj and they do n’t want xxup fbi investigators anywhere near it . \n",
       " xxmaj the campaign against xxmaj comey is pure intimidation . xxmaj it ’s also a warning . xxmaj any senior xxup fbi people who value their careers are being warned to stay away . xxmaj the xxmaj democrats are closing ranks around their nominee against the xxup fbi . xxmaj it ’s an ugly and unprecedented scene . xxmaj it may also be their last stand . \n",
       " xxmaj hillary xxmaj clinton has awkwardly wound her way through numerous scandals in just this election cycle . xxmaj but she ’s never shown fear or desperation before . xxmaj now that has changed . xxmaj whatever she is afraid of , it lies buried in her emails with xxmaj huma xxmaj abedin . xxmaj and it can bring her down like nothing else has ."
      ]
     },
     "execution_count": 20,
     "metadata": {},
     "output_type": "execute_result"
    }
   ],
   "source": [
    "data.train_ds[0][0]"
   ]
  },
  {
   "cell_type": "code",
   "execution_count": 22,
   "metadata": {
    "collapsed": true,
    "deletable": false,
    "editable": false,
    "run_control": {
     "frozen": true
    }
   },
   "outputs": [
    {
     "data": {
      "text/plain": [
       "label    6335\n",
       "text     6335\n",
       "dtype: int64"
      ]
     },
     "execution_count": 22,
     "metadata": {},
     "output_type": "execute_result"
    }
   ],
   "source": [
    "df.count(0)"
   ]
  },
  {
   "cell_type": "markdown",
   "metadata": {},
   "source": [
    "We have to use a special kind of TextDataBunch for the language model, that ignores the labels (that's why we put 0 everywhere), will shuffle the texts at each epoch before concatenating them all together (only for training, we don't shuffle for the validation set) and will send batches that read that text in order with targets that are the next word in the sentence."
   ]
  },
  {
   "cell_type": "code",
   "execution_count": 8,
   "metadata": {},
   "outputs": [],
   "source": [
    "learn = language_model_learner(data_lm, pretrained_model=URLs.WT103, drop_mult=0.3)"
   ]
  },
  {
   "cell_type": "code",
   "execution_count": 9,
   "metadata": {
    "scrolled": true
   },
   "outputs": [
    {
     "name": "stdout",
     "output_type": "stream",
     "text": [
      "LR Finder is complete, type {learner_name}.recorder.plot() to see the graph.\n"
     ]
    }
   ],
   "source": [
    "learn.lr_find()"
   ]
  },
  {
   "cell_type": "code",
   "execution_count": 17,
   "metadata": {
    "deletable": false,
    "editable": false,
    "run_control": {
     "frozen": true
    }
   },
   "outputs": [
    {
     "data": {
      "image/png": "[encoded data removed]",
      "text/plain": [
       "<Figure size 432x288 with 1 Axes>"
      ]
     },
     "metadata": {
      "needs_background": "light"
     },
     "output_type": "display_data"
    }
   ],
   "source": [
    "learn.recorder.plot(skip_end=15)"
   ]
  },
  {
   "cell_type": "markdown",
   "metadata": {},
   "source": [
    "Tried 8e-2 and 3e-3 for lr also"
   ]
  },
  {
   "cell_type": "code",
   "execution_count": 10,
   "metadata": {
    "scrolled": true
   },
   "outputs": [
    {
     "data": {
      "text/html": [
       "Total time: 07:39 <p><table style='width:300px; margin-bottom:10px'>\n",
       "  <tr>\n",
       "    <th>epoch</th>\n",
       "    <th>train_loss</th>\n",
       "    <th>valid_loss</th>\n",
       "    <th>accuracy</th>\n",
       "  </tr>\n",
       "  <tr>\n",
       "    <th>1</th>\n",
       "    <th>4.417173</th>\n",
       "    <th>4.139519</th>\n",
       "    <th>0.289984</th>\n",
       "  </tr>\n",
       "</table>\n"
      ],
      "text/plain": [
       "<IPython.core.display.HTML object>"
      ]
     },
     "metadata": {},
     "output_type": "display_data"
    }
   ],
   "source": [
    "learn.fit_one_cycle(1, 3e-2, moms=(0.8,0.7))"
   ]
  },
  {
   "cell_type": "code",
   "execution_count": 11,
   "metadata": {},
   "outputs": [],
   "source": [
    "learn.save('fit_head1')"
   ]
  },
  {
   "cell_type": "code",
   "execution_count": 12,
   "metadata": {
    "scrolled": true
   },
   "outputs": [],
   "source": [
    "learn.load('fit_head1');"
   ]
  },
  {
   "cell_type": "markdown",
   "metadata": {},
   "source": [
    "To complete the fine-tuning, we can then unfreeze and launch a new training."
   ]
  },
  {
   "cell_type": "markdown",
   "metadata": {},
   "source": [
    "Previously ran 10 epochs but most of the gain seems to be in 6"
   ]
  },
  {
   "cell_type": "code",
   "execution_count": 13,
   "metadata": {
    "scrolled": false
   },
   "outputs": [
    {
     "data": {
      "text/html": [
       "Total time: 54:57 <p><table style='width:300px; margin-bottom:10px'>\n",
       "  <tr>\n",
       "    <th>epoch</th>\n",
       "    <th>train_loss</th>\n",
       "    <th>valid_loss</th>\n",
       "    <th>accuracy</th>\n",
       "  </tr>\n",
       "  <tr>\n",
       "    <th>1</th>\n",
       "    <th>3.907083</th>\n",
       "    <th>3.867383</th>\n",
       "    <th>0.320669</th>\n",
       "  </tr>\n",
       "  <tr>\n",
       "    <th>2</th>\n",
       "    <th>3.908147</th>\n",
       "    <th>3.792276</th>\n",
       "    <th>0.330472</th>\n",
       "  </tr>\n",
       "  <tr>\n",
       "    <th>3</th>\n",
       "    <th>3.657064</th>\n",
       "    <th>3.707141</th>\n",
       "    <th>0.341200</th>\n",
       "  </tr>\n",
       "  <tr>\n",
       "    <th>4</th>\n",
       "    <th>3.536171</th>\n",
       "    <th>3.637269</th>\n",
       "    <th>0.352112</th>\n",
       "  </tr>\n",
       "  <tr>\n",
       "    <th>5</th>\n",
       "    <th>3.293288</th>\n",
       "    <th>3.604748</th>\n",
       "    <th>0.357504</th>\n",
       "  </tr>\n",
       "  <tr>\n",
       "    <th>6</th>\n",
       "    <th>3.072630</th>\n",
       "    <th>3.612443</th>\n",
       "    <th>0.357805</th>\n",
       "  </tr>\n",
       "</table>\n"
      ],
      "text/plain": [
       "<IPython.core.display.HTML object>"
      ]
     },
     "metadata": {},
     "output_type": "display_data"
    }
   ],
   "source": [
    "learn.unfreeze()\n",
    "learn.fit_one_cycle(6, 3e-3, moms=(0.8,0.7))"
   ]
  },
  {
   "cell_type": "code",
   "execution_count": 13,
   "metadata": {
    "collapsed": true,
    "deletable": false,
    "editable": false,
    "run_control": {
     "frozen": true
    }
   },
   "outputs": [
    {
     "data": {
      "text/html": [
       "Total time: 54:57 <p><table style='width:300px; margin-bottom:10px'>\n",
       "  <tr>\n",
       "    <th>epoch</th>\n",
       "    <th>train_loss</th>\n",
       "    <th>valid_loss</th>\n",
       "    <th>accuracy</th>\n",
       "  </tr>\n",
       "  <tr>\n",
       "    <th>1</th>\n",
       "    <th>3.907083</th>\n",
       "    <th>3.867383</th>\n",
       "    <th>0.320669</th>\n",
       "  </tr>\n",
       "  <tr>\n",
       "    <th>2</th>\n",
       "    <th>3.908147</th>\n",
       "    <th>3.792276</th>\n",
       "    <th>0.330472</th>\n",
       "  </tr>\n",
       "  <tr>\n",
       "    <th>3</th>\n",
       "    <th>3.657064</th>\n",
       "    <th>3.707141</th>\n",
       "    <th>0.341200</th>\n",
       "  </tr>\n",
       "  <tr>\n",
       "    <th>4</th>\n",
       "    <th>3.536171</th>\n",
       "    <th>3.637269</th>\n",
       "    <th>0.352112</th>\n",
       "  </tr>\n",
       "  <tr>\n",
       "    <th>5</th>\n",
       "    <th>3.293288</th>\n",
       "    <th>3.604748</th>\n",
       "    <th>0.357504</th>\n",
       "  </tr>\n",
       "  <tr>\n",
       "    <th>6</th>\n",
       "    <th>3.072630</th>\n",
       "    <th>3.612443</th>\n",
       "    <th>0.357805</th>\n",
       "  </tr>\n",
       "</table>\n"
      ],
      "text/plain": [
       "<IPython.core.display.HTML object>"
      ]
     },
     "metadata": {},
     "output_type": "display_data"
    }
   ],
   "source": [
    "# learn.unfreeze()\n",
    "# learn.fit_one_cycle(6, 3e-3, moms=(0.8,0.7))"
   ]
  },
  {
   "cell_type": "code",
   "execution_count": 14,
   "metadata": {},
   "outputs": [],
   "source": [
    "learn.save('fine_tuned')"
   ]
  },
  {
   "cell_type": "code",
   "execution_count": 15,
   "metadata": {},
   "outputs": [],
   "source": [
    "learn.load('fine_tuned');"
   ]
  },
  {
   "cell_type": "code",
   "execution_count": 27,
   "metadata": {
    "collapsed": true,
    "deletable": false,
    "editable": false,
    "run_control": {
     "frozen": true
    }
   },
   "outputs": [
    {
     "name": "stdout",
     "output_type": "stream",
     "text": [
      "Total time: 00:05\n",
      "\n"
     ]
    },
    {
     "data": {
      "text/plain": [
       "\"hillary clinton is a  lot of all sorts of course , who have been able to the xxup u.s. it is at least - or they had a “ i think tanks and had been for the kind of course . \\n\\n the xxup gop leaders are not far away from washington ’s so - in the so strong in the original report on thursday night in response to the president obama 's main street of course . xxup tv show that is a long - the democratic party to the president - based on the “ i said that could have been “\""
      ]
     },
     "execution_count": 27,
     "metadata": {},
     "output_type": "execute_result"
    }
   ],
   "source": [
    "learn.predict('hillary clinton is a ', 100, temperature=1.1, min_p=0.001)"
   ]
  },
  {
   "cell_type": "markdown",
   "metadata": {},
   "source": [
    "We have to save the model but also it's encoder, the part that's responsible for creating and updating the hidden state. For the next part, we don't care about the part that tries to guess the next word."
   ]
  },
  {
   "cell_type": "code",
   "execution_count": 16,
   "metadata": {},
   "outputs": [],
   "source": [
    "learn.save_encoder('fine_tuned_enc')"
   ]
  },
  {
   "cell_type": "code",
   "execution_count": 17,
   "metadata": {},
   "outputs": [],
   "source": [
    "learn.load_encoder('fine_tuned_enc')"
   ]
  },
  {
   "cell_type": "markdown",
   "metadata": {},
   "source": [
    "## Classifier"
   ]
  },
  {
   "cell_type": "markdown",
   "metadata": {},
   "source": [
    "Now, we'll create a new data object that only grabs the labelled data and keeps those labels. "
   ]
  },
  {
   "cell_type": "code",
   "execution_count": 18,
   "metadata": {},
   "outputs": [],
   "source": [
    "bs=24"
   ]
  },
  {
   "cell_type": "code",
   "execution_count": 19,
   "metadata": {},
   "outputs": [],
   "source": [
    "data_clas = (TextList.from_df(df, cols='text', vocab=data_lm.vocab)\n",
    "            .random_split_by_pct(valid_pct=0.2)\n",
    "            .label_from_df(cols='label')\n",
    "            .databunch(bs=bs))"
   ]
  },
  {
   "cell_type": "code",
   "execution_count": 20,
   "metadata": {},
   "outputs": [],
   "source": [
    "data_clas.save('tmp_clas')"
   ]
  },
  {
   "cell_type": "code",
   "execution_count": 21,
   "metadata": {},
   "outputs": [],
   "source": [
    "path_tmp=Path(\"/home/jupyter/tutorials/fastai/course-v3/nbs/dl1\")"
   ]
  },
  {
   "cell_type": "code",
   "execution_count": 22,
   "metadata": {
    "scrolled": true
   },
   "outputs": [],
   "source": [
    "data_clas = TextClasDataBunch.load(path_tmp, 'tmp_clas', bs=bs)\n",
    "#data_clas.show_batch()"
   ]
  },
  {
   "cell_type": "markdown",
   "metadata": {},
   "source": [
    "We can then create a model to classify those articles and load the encoder we saved before."
   ]
  },
  {
   "cell_type": "code",
   "execution_count": 23,
   "metadata": {
    "scrolled": true
   },
   "outputs": [],
   "source": [
    "learn_c = text_classifier_learner(data_clas, drop_mult=0.5)"
   ]
  },
  {
   "cell_type": "markdown",
   "metadata": {},
   "source": [
    "This failed frequently between sessions..."
   ]
  },
  {
   "cell_type": "code",
   "execution_count": 24,
   "metadata": {
    "scrolled": true
   },
   "outputs": [],
   "source": [
    "learn_c.load_encoder('fine_tuned_enc')"
   ]
  },
  {
   "cell_type": "code",
   "execution_count": 25,
   "metadata": {
    "scrolled": true
   },
   "outputs": [],
   "source": [
    "learn_c.freeze()"
   ]
  },
  {
   "cell_type": "code",
   "execution_count": 47,
   "metadata": {
    "deletable": false,
    "editable": false,
    "run_control": {
     "frozen": true
    },
    "scrolled": false
   },
   "outputs": [
    {
     "name": "stdout",
     "output_type": "stream",
     "text": [
      "LR Finder is complete, type {learner_name}.recorder.plot() to see the graph.\n"
     ]
    }
   ],
   "source": [
    "learn_c.lr_find()"
   ]
  },
  {
   "cell_type": "code",
   "execution_count": 48,
   "metadata": {
    "collapsed": true,
    "deletable": false,
    "editable": false,
    "run_control": {
     "frozen": true
    }
   },
   "outputs": [
    {
     "data": {
      "image/png": "[encoded data removed]",
      "text/plain": [
       "<Figure size 432x288 with 1 Axes>"
      ]
     },
     "metadata": {
      "needs_background": "light"
     },
     "output_type": "display_data"
    }
   ],
   "source": [
    "learn_c.recorder.plot()"
   ]
  },
  {
   "cell_type": "markdown",
   "metadata": {},
   "source": [
    "Also tried this at 3e-2.  Already at 99% accuracy so really no need to go on!  But went ahead as an experiment"
   ]
  },
  {
   "cell_type": "code",
   "execution_count": 27,
   "metadata": {
    "scrolled": true
   },
   "outputs": [
    {
     "data": {
      "text/html": [
       "Total time: 11:14 <p><table style='width:300px; margin-bottom:10px'>\n",
       "  <tr>\n",
       "    <th>epoch</th>\n",
       "    <th>train_loss</th>\n",
       "    <th>valid_loss</th>\n",
       "    <th>accuracy</th>\n",
       "  </tr>\n",
       "  <tr>\n",
       "    <th>1</th>\n",
       "    <th>0.241235</th>\n",
       "    <th>0.061616</th>\n",
       "    <th>0.991318</th>\n",
       "  </tr>\n",
       "</table>\n"
      ],
      "text/plain": [
       "<IPython.core.display.HTML object>"
      ]
     },
     "metadata": {},
     "output_type": "display_data"
    }
   ],
   "source": [
    "learn_c.fit_one_cycle(1, 1e-2, moms=(0.8,0.7))"
   ]
  },
  {
   "cell_type": "code",
   "execution_count": 27,
   "metadata": {
    "collapsed": true,
    "deletable": false,
    "editable": false,
    "run_control": {
     "frozen": true
    }
   },
   "outputs": [
    {
     "data": {
      "text/html": [
       "Total time: 11:14 <p><table style='width:300px; margin-bottom:10px'>\n",
       "  <tr>\n",
       "    <th>epoch</th>\n",
       "    <th>train_loss</th>\n",
       "    <th>valid_loss</th>\n",
       "    <th>accuracy</th>\n",
       "  </tr>\n",
       "  <tr>\n",
       "    <th>1</th>\n",
       "    <th>0.241235</th>\n",
       "    <th>0.061616</th>\n",
       "    <th>0.991318</th>\n",
       "  </tr>\n",
       "</table>\n"
      ],
      "text/plain": [
       "<IPython.core.display.HTML object>"
      ]
     },
     "metadata": {},
     "output_type": "display_data"
    }
   ],
   "source": [
    "# learn_c.fit_one_cycle(1, 1e-2, moms=(0.8,0.7))"
   ]
  },
  {
   "cell_type": "code",
   "execution_count": 29,
   "metadata": {},
   "outputs": [],
   "source": [
    "learn_c.save('first')"
   ]
  },
  {
   "cell_type": "code",
   "execution_count": 30,
   "metadata": {},
   "outputs": [],
   "source": [
    "learn_c.load('first');"
   ]
  },
  {
   "cell_type": "code",
   "execution_count": 31,
   "metadata": {
    "scrolled": true
   },
   "outputs": [
    {
     "data": {
      "text/html": [
       "Total time: 12:16 <p><table style='width:300px; margin-bottom:10px'>\n",
       "  <tr>\n",
       "    <th>epoch</th>\n",
       "    <th>train_loss</th>\n",
       "    <th>valid_loss</th>\n",
       "    <th>accuracy</th>\n",
       "  </tr>\n",
       "  <tr>\n",
       "    <th>1</th>\n",
       "    <th>0.134297</th>\n",
       "    <th>0.031686</th>\n",
       "    <th>0.987372</th>\n",
       "  </tr>\n",
       "</table>\n"
      ],
      "text/plain": [
       "<IPython.core.display.HTML object>"
      ]
     },
     "metadata": {},
     "output_type": "display_data"
    }
   ],
   "source": [
    "learn_c.freeze_to(-2)\n",
    "learn_c.fit_one_cycle(1, slice(1e-2/(2.6**4),1e-2), moms=(0.8,0.7))"
   ]
  },
  {
   "cell_type": "code",
   "execution_count": 31,
   "metadata": {
    "collapsed": true,
    "deletable": false,
    "editable": false,
    "run_control": {
     "frozen": true
    }
   },
   "outputs": [
    {
     "data": {
      "text/html": [
       "Total time: 12:16 <p><table style='width:300px; margin-bottom:10px'>\n",
       "  <tr>\n",
       "    <th>epoch</th>\n",
       "    <th>train_loss</th>\n",
       "    <th>valid_loss</th>\n",
       "    <th>accuracy</th>\n",
       "  </tr>\n",
       "  <tr>\n",
       "    <th>1</th>\n",
       "    <th>0.134297</th>\n",
       "    <th>0.031686</th>\n",
       "    <th>0.987372</th>\n",
       "  </tr>\n",
       "</table>\n"
      ],
      "text/plain": [
       "<IPython.core.display.HTML object>"
      ]
     },
     "metadata": {},
     "output_type": "display_data"
    }
   ],
   "source": [
    "# learn_c.freeze_to(-2)\n",
    "# learn_c.fit_one_cycle(1, slice(1e-2/(2.6**4),1e-2), moms=(0.8,0.7))"
   ]
  },
  {
   "cell_type": "code",
   "execution_count": 32,
   "metadata": {},
   "outputs": [],
   "source": [
    "learn_c.save('second')"
   ]
  },
  {
   "cell_type": "code",
   "execution_count": 33,
   "metadata": {},
   "outputs": [],
   "source": [
    "learn_c.load('second');"
   ]
  },
  {
   "cell_type": "code",
   "execution_count": 34,
   "metadata": {
    "scrolled": true
   },
   "outputs": [
    {
     "data": {
      "text/html": [
       "Total time: 12:25 <p><table style='width:300px; margin-bottom:10px'>\n",
       "  <tr>\n",
       "    <th>epoch</th>\n",
       "    <th>train_loss</th>\n",
       "    <th>valid_loss</th>\n",
       "    <th>accuracy</th>\n",
       "  </tr>\n",
       "  <tr>\n",
       "    <th>1</th>\n",
       "    <th>0.104019</th>\n",
       "    <th>0.042995</th>\n",
       "    <th>0.984215</th>\n",
       "  </tr>\n",
       "</table>\n"
      ],
      "text/plain": [
       "<IPython.core.display.HTML object>"
      ]
     },
     "metadata": {},
     "output_type": "display_data"
    }
   ],
   "source": [
    "learn_c.freeze_to(-3)\n",
    "learn_c.fit_one_cycle(1, slice(5e-3/(2.6**4),5e-3), moms=(0.8,0.7))"
   ]
  },
  {
   "cell_type": "code",
   "execution_count": 34,
   "metadata": {
    "collapsed": true,
    "deletable": false,
    "editable": false,
    "run_control": {
     "frozen": true
    }
   },
   "outputs": [
    {
     "data": {
      "text/html": [
       "Total time: 12:25 <p><table style='width:300px; margin-bottom:10px'>\n",
       "  <tr>\n",
       "    <th>epoch</th>\n",
       "    <th>train_loss</th>\n",
       "    <th>valid_loss</th>\n",
       "    <th>accuracy</th>\n",
       "  </tr>\n",
       "  <tr>\n",
       "    <th>1</th>\n",
       "    <th>0.104019</th>\n",
       "    <th>0.042995</th>\n",
       "    <th>0.984215</th>\n",
       "  </tr>\n",
       "</table>\n"
      ],
      "text/plain": [
       "<IPython.core.display.HTML object>"
      ]
     },
     "metadata": {},
     "output_type": "display_data"
    }
   ],
   "source": [
    "# learn_c.freeze_to(-3)\n",
    "# learn_c.fit_one_cycle(1, slice(5e-3/(2.6**4),5e-3), moms=(0.8,0.7))"
   ]
  },
  {
   "cell_type": "code",
   "execution_count": 35,
   "metadata": {},
   "outputs": [],
   "source": [
    "learn_c.save('third')"
   ]
  },
  {
   "cell_type": "code",
   "execution_count": 36,
   "metadata": {},
   "outputs": [],
   "source": [
    "learn_c.load('third');"
   ]
  },
  {
   "cell_type": "markdown",
   "metadata": {},
   "source": [
    "This finally got back to almost the same accuracy as 'first' - maybe it's not worth it to run the unfrozen fits? but losses are quite a bit lower."
   ]
  },
  {
   "cell_type": "code",
   "execution_count": 37,
   "metadata": {
    "scrolled": false
   },
   "outputs": [
    {
     "data": {
      "text/html": [
       "Total time: 28:55 <p><table style='width:300px; margin-bottom:10px'>\n",
       "  <tr>\n",
       "    <th>epoch</th>\n",
       "    <th>train_loss</th>\n",
       "    <th>valid_loss</th>\n",
       "    <th>accuracy</th>\n",
       "  </tr>\n",
       "  <tr>\n",
       "    <th>1</th>\n",
       "    <th>0.120577</th>\n",
       "    <th>0.029395</th>\n",
       "    <th>0.990529</th>\n",
       "  </tr>\n",
       "  <tr>\n",
       "    <th>2</th>\n",
       "    <th>0.089659</th>\n",
       "    <th>0.045305</th>\n",
       "    <th>0.984215</th>\n",
       "  </tr>\n",
       "</table>\n"
      ],
      "text/plain": [
       "<IPython.core.display.HTML object>"
      ]
     },
     "metadata": {},
     "output_type": "display_data"
    }
   ],
   "source": [
    "learn_c.unfreeze()\n",
    "learn_c.fit_one_cycle(2, slice(1e-3/(2.6**4),1e-3), moms=(0.8,0.7))"
   ]
  },
  {
   "cell_type": "code",
   "execution_count": 37,
   "metadata": {
    "collapsed": true,
    "deletable": false,
    "editable": false,
    "run_control": {
     "frozen": true
    }
   },
   "outputs": [
    {
     "data": {
      "text/html": [
       "Total time: 28:55 <p><table style='width:300px; margin-bottom:10px'>\n",
       "  <tr>\n",
       "    <th>epoch</th>\n",
       "    <th>train_loss</th>\n",
       "    <th>valid_loss</th>\n",
       "    <th>accuracy</th>\n",
       "  </tr>\n",
       "  <tr>\n",
       "    <th>1</th>\n",
       "    <th>0.120577</th>\n",
       "    <th>0.029395</th>\n",
       "    <th>0.990529</th>\n",
       "  </tr>\n",
       "  <tr>\n",
       "    <th>2</th>\n",
       "    <th>0.089659</th>\n",
       "    <th>0.045305</th>\n",
       "    <th>0.984215</th>\n",
       "  </tr>\n",
       "</table>\n"
      ],
      "text/plain": [
       "<IPython.core.display.HTML object>"
      ]
     },
     "metadata": {},
     "output_type": "display_data"
    }
   ],
   "source": [
    "# learn_c.unfreeze()\n",
    "# learn_c.fit_one_cycle(2, slice(1e-3/(2.6**4),1e-3), moms=(0.8,0.7))"
   ]
  },
  {
   "cell_type": "code",
   "execution_count": 38,
   "metadata": {},
   "outputs": [],
   "source": [
    "learn_c.save('fourth')"
   ]
  },
  {
   "cell_type": "markdown",
   "metadata": {},
   "source": [
    "Trying some predictions.  \n",
    "First tried one that's easily classified as Fake :-)"
   ]
  },
  {
   "cell_type": "code",
   "execution_count": 42,
   "metadata": {
    "scrolled": true
   },
   "outputs": [
    {
     "data": {
      "text/plain": [
       "(Category FAKE, tensor(0), tensor([0.9975, 0.0025]))"
      ]
     },
     "execution_count": 42,
     "metadata": {},
     "output_type": "execute_result"
    }
   ],
   "source": [
    "learn_c.predict(\"Donald Trump is a stable genius\")"
   ]
  },
  {
   "cell_type": "markdown",
   "metadata": {},
   "source": [
    "But it turned out it was consistently classifying short samples as False.  This example was part of a dataset text."
   ]
  },
  {
   "cell_type": "code",
   "execution_count": 40,
   "metadata": {
    "scrolled": true
   },
   "outputs": [
    {
     "data": {
      "text/plain": [
       "(Category FAKE, tensor(0), tensor([0.9580, 0.0420]))"
      ]
     },
     "execution_count": 40,
     "metadata": {},
     "output_type": "execute_result"
    }
   ],
   "source": [
    "learn_c.predict(\"hillary clinton accepted the democratic nomination for president thursday night\")"
   ]
  },
  {
   "cell_type": "markdown",
   "metadata": {},
   "source": [
    "Testing with examples of various lengths from an actual dataset text - looks like it needs a fair amount of text to classify correctly, but that makes sense!"
   ]
  },
  {
   "cell_type": "code",
   "execution_count": 45,
   "metadata": {
    "collapsed": true
   },
   "outputs": [
    {
     "data": {
      "text/plain": [
       "'U.S. Secretary of State John F. Kerry said Monday that he will stop in Paris later this week, amid criticism that no top American officials attended Sunday’s unity march against terrorism.\\n\\nKerry said he expects to arrive in Paris Thursday evening, as he heads home after a week abroad. He said he will fly to France at the conclusion of a series of meetings scheduled for Thursday in Sofia, Bulgaria. He plans to meet the next day with Foreign Minister Laurent Fabius and President Francois Hollande, then return to Washington.\\n\\nThe visit by Kerry, who has family and childhood ties to the country and speaks fluent French, could address some of the criticism that the United States snubbed France in its darkest hour in many years.\\n\\nThe French press on Monday was filled with questions about why neither President Obama nor Kerry attended Sunday’s march, as about 40 leaders of other nations did. Obama was said to have stayed away because his own security needs can be taxing on a country, and Kerry had prior commitments.\\n\\nAmong roughly 40 leaders who did attend was Israeli Prime Minister Benjamin Netanyahu, no stranger to intense security, who marched beside Hollande through the city streets. The highest ranking U.S. officials attending the march were Jane Hartley, the ambassador to France, and Victoria Nuland, the assistant secretary of state for European affairs. Attorney General Eric H. Holder Jr. was in Paris for meetings with law enforcement officials but did not participate in the march.\\n\\nKerry spent Sunday at a business summit hosted by India’s prime minister, Narendra Modi. The United States is eager for India to relax stringent laws that function as barriers to foreign investment and hopes Modi’s government will act to open the huge Indian market for more American businesses.\\n\\nIn a news conference, Kerry brushed aside criticism that the United States had not sent a more senior official to Paris as “quibbling a little bit.” He noted that many staffers of the American Embassy in Paris attended the march, including the ambassador. He said he had wanted to be present at the march himself but could not because of his prior commitments in India.\\n\\n“But that is why I am going there on the way home, to make it crystal clear how passionately we feel about the events that have taken place there,” he said.\\n\\n“And I don’t think the people of France have any doubts about America’s understanding of what happened, of our personal sense of loss and our deep commitment to the people of France in this moment of trauma.”'"
      ]
     },
     "execution_count": 45,
     "metadata": {},
     "output_type": "execute_result"
    }
   ],
   "source": [
    "df['text'][2]"
   ]
  },
  {
   "cell_type": "code",
   "execution_count": 46,
   "metadata": {},
   "outputs": [
    {
     "data": {
      "text/plain": [
       "(Category REAL, tensor(1), tensor([0.0027, 0.9973]))"
      ]
     },
     "execution_count": 46,
     "metadata": {},
     "output_type": "execute_result"
    }
   ],
   "source": [
    "learn_c.predict(df['text'][2])"
   ]
  },
  {
   "cell_type": "code",
   "execution_count": 52,
   "metadata": {
    "scrolled": false
   },
   "outputs": [
    {
     "data": {
      "text/plain": [
       "(Category FAKE, tensor(0), tensor([0.8157, 0.1843]))"
      ]
     },
     "execution_count": 52,
     "metadata": {},
     "output_type": "execute_result"
    }
   ],
   "source": [
    "learn_c.predict('U.S. Secretary of State John F. Kerry said Monday that he will stop in Paris later this week')"
   ]
  },
  {
   "cell_type": "code",
   "execution_count": 51,
   "metadata": {},
   "outputs": [
    {
     "data": {
      "text/plain": [
       "(Category REAL, tensor(1), tensor([0.4151, 0.5849]))"
      ]
     },
     "execution_count": 51,
     "metadata": {},
     "output_type": "execute_result"
    }
   ],
   "source": [
    "learn_c.predict('U.S. Secretary of State John F. Kerry said Monday that he will stop in Paris later this week, amid criticism that no top American officials attended Sunday’s unity march against terrorism.')"
   ]
  },
  {
   "cell_type": "code",
   "execution_count": 53,
   "metadata": {
    "scrolled": true
   },
   "outputs": [
    {
     "data": {
      "text/plain": [
       "(Category REAL, tensor(1), tensor([0.0152, 0.9848]))"
      ]
     },
     "execution_count": 53,
     "metadata": {},
     "output_type": "execute_result"
    }
   ],
   "source": [
    "learn_c.predict('He said he will fly to France at the conclusion of a series of meetings scheduled for Thursday in Sofia, Bulgaria. He plans to meet the next day with Foreign Minister Laurent Fabius and President Francois Hollande, then return to Washington.\\n\\nThe visit by Kerry, who has family and childhood ties to the country and speaks fluent French, could address some of the criticism that the United States snubbed France in its darkest hour in many years.')"
   ]
  },
  {
   "cell_type": "markdown",
   "metadata": {},
   "source": [
    "This was just a test to make sure I could still load 'fourth'"
   ]
  },
  {
   "cell_type": "code",
   "execution_count": 55,
   "metadata": {},
   "outputs": [],
   "source": [
    "learn_c.load('fourth');"
   ]
  },
  {
   "cell_type": "code",
   "execution_count": 56,
   "metadata": {
    "scrolled": true
   },
   "outputs": [
    {
     "data": {
      "text/plain": [
       "(Category REAL, tensor(1), tensor([0.0152, 0.9848]))"
      ]
     },
     "execution_count": 56,
     "metadata": {},
     "output_type": "execute_result"
    }
   ],
   "source": [
    "learn_c.predict('He said he will fly to France at the conclusion of a series of meetings scheduled for Thursday in Sofia, Bulgaria. He plans to meet the next day with Foreign Minister Laurent Fabius and President Francois Hollande, then return to Washington.\\n\\nThe visit by Kerry, who has family and childhood ties to the country and speaks fluent French, could address some of the criticism that the United States snubbed France in its darkest hour in many years.')"
   ]
  },
  {
   "cell_type": "code",
   "execution_count": null,
   "metadata": {},
   "outputs": [],
   "source": []
  }
 ],
 "metadata": {
  "kernelspec": {
   "display_name": "Python 3",
   "language": "python",
   "name": "python3"
  },
  "language_info": {
   "codemirror_mode": {
    "name": "ipython",
    "version": 3
   },
   "file_extension": ".py",
   "mimetype": "text/x-python",
   "name": "python",
   "nbconvert_exporter": "python",
   "pygments_lexer": "ipython3",
   "version": "3.7.0"
  }
 },
 "nbformat": 4,
 "nbformat_minor": 2
}
